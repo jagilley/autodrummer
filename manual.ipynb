{
 "cells": [
  {
   "cell_type": "code",
   "execution_count": 1,
   "metadata": {},
   "outputs": [
    {
     "data": {
      "text/html": [
       "<div>\n",
       "<style scoped>\n",
       "    .dataframe tbody tr th:only-of-type {\n",
       "        vertical-align: middle;\n",
       "    }\n",
       "\n",
       "    .dataframe tbody tr th {\n",
       "        vertical-align: top;\n",
       "    }\n",
       "\n",
       "    .dataframe thead th {\n",
       "        text-align: right;\n",
       "    }\n",
       "</style>\n",
       "<table border=\"1\" class=\"dataframe\">\n",
       "  <thead>\n",
       "    <tr style=\"text-align: right;\">\n",
       "      <th></th>\n",
       "      <th>prompt</th>\n",
       "      <th>completion</th>\n",
       "    </tr>\n",
       "  </thead>\n",
       "  <tbody>\n",
       "    <tr>\n",
       "      <th>0</th>\n",
       "      <td>funk groove acoustic kit -&gt;</td>\n",
       "      <td>k n k n s n h s h s k n s n h s k n k n s n h...</td>\n",
       "    </tr>\n",
       "    <tr>\n",
       "      <th>1</th>\n",
       "      <td>funk groove dark hybrid -&gt;</td>\n",
       "      <td>k n k n s n r s r s k n s n r s k n k n s n r...</td>\n",
       "    </tr>\n",
       "    <tr>\n",
       "      <th>2</th>\n",
       "      <td>soul groove acoustic kit -&gt;</td>\n",
       "      <td>k n h n s s h n h n k n s s h k k n h n s n h...</td>\n",
       "    </tr>\n",
       "    <tr>\n",
       "      <th>3</th>\n",
       "      <td>soul groove dark hybrid -&gt;</td>\n",
       "      <td>k n a n s s a n a n k n s s a k k n a n s n a...</td>\n",
       "    </tr>\n",
       "    <tr>\n",
       "      <th>4</th>\n",
       "      <td>funk groove acoustic kit -&gt;</td>\n",
       "      <td>k n h k k n h k h k l n k n k s k s h k k n k...</td>\n",
       "    </tr>\n",
       "  </tbody>\n",
       "</table>\n",
       "</div>"
      ],
      "text/plain": [
       "                        prompt  \\\n",
       "0  funk groove acoustic kit ->   \n",
       "1   funk groove dark hybrid ->   \n",
       "2  soul groove acoustic kit ->   \n",
       "3   soul groove dark hybrid ->   \n",
       "4  funk groove acoustic kit ->   \n",
       "\n",
       "                                          completion  \n",
       "0   k n k n s n h s h s k n s n h s k n k n s n h...  \n",
       "1   k n k n s n r s r s k n s n r s k n k n s n r...  \n",
       "2   k n h n s s h n h n k n s s h k k n h n s n h...  \n",
       "3   k n a n s s a n a n k n s s a k k n a n s n a...  \n",
       "4   k n h k k n h k h k l n k n k s k s h k k n k...  "
      ]
     },
     "execution_count": 1,
     "metadata": {},
     "output_type": "execute_result"
    }
   ],
   "source": [
    "import pandas as pd\n",
    "from tqdm import tqdm\n",
    "\n",
    "tqdm.pandas()\n",
    "\n",
    "df = pd.read_csv('final-egmd.csv')\n",
    "\n",
    "df.head()"
   ]
  },
  {
   "cell_type": "code",
   "execution_count": 2,
   "metadata": {},
   "outputs": [
    {
     "name": "stderr",
     "output_type": "stream",
     "text": [
      "100%|██████████| 469/469 [03:49<00:00,  2.04it/s]\n"
     ]
    }
   ],
   "source": [
    "from txt2audio import text_to_audio\n",
    "\n",
    "\n",
    "df['completion'] = df['completion'].apply(lambda x: x.strip().replace(\"###\", \"\"))\n",
    "df['audio'] = df['completion'].progress_apply(lambda x: text_to_audio(x, 135))"
   ]
  },
  {
   "cell_type": "code",
   "execution_count": 3,
   "metadata": {},
   "outputs": [
    {
     "data": {
      "text/plain": [
       "0      (((<pydub.audio_segment.AudioSegment object at...\n",
       "1      (((<pydub.audio_segment.AudioSegment object at...\n",
       "2      (((<pydub.audio_segment.AudioSegment object at...\n",
       "3      (((<pydub.audio_segment.AudioSegment object at...\n",
       "4      (((<pydub.audio_segment.AudioSegment object at...\n",
       "                             ...                        \n",
       "464    (((<pydub.audio_segment.AudioSegment object at...\n",
       "465    (((<pydub.audio_segment.AudioSegment object at...\n",
       "466    (((<pydub.audio_segment.AudioSegment object at...\n",
       "467    (((<pydub.audio_segment.AudioSegment object at...\n",
       "468    (((<pydub.audio_segment.AudioSegment object at...\n",
       "Name: audio, Length: 469, dtype: object"
      ]
     },
     "execution_count": 3,
     "metadata": {},
     "output_type": "execute_result"
    }
   ],
   "source": [
    "# df['audio'] pydub to save audio\n",
    "\n"
   ]
  }
 ],
 "metadata": {
  "kernelspec": {
   "display_name": "venv10",
   "language": "python",
   "name": "venv10"
  },
  "language_info": {
   "codemirror_mode": {
    "name": "ipython",
    "version": 3
   },
   "file_extension": ".py",
   "mimetype": "text/x-python",
   "name": "python",
   "nbconvert_exporter": "python",
   "pygments_lexer": "ipython3",
   "version": "3.10.7"
  },
  "orig_nbformat": 4
 },
 "nbformat": 4,
 "nbformat_minor": 2
}
